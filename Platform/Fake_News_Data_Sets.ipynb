{
  "nbformat": 4,
  "nbformat_minor": 0,
  "metadata": {
    "colab": {
      "name": "Fake News Data Sets",
      "provenance": []
    },
    "kernelspec": {
      "name": "python3",
      "display_name": "Python 3"
    },
    "language_info": {
      "name": "python"
    }
  },
  "cells": [
    {
      "cell_type": "markdown",
      "metadata": {
        "id": "6e3Mzu5G8vrj"
      },
      "source": [
        "Data Sets\n",
        "\n",
        "- https://github.com/KaiDMML/FakeNewsNet\n",
        " - News articles\n",
        " - Tweets\n",
        " - Retweets \n",
        " - user_profile\n",
        " - user_timeline_tweets\n",
        " - user_followers\n",
        "- https://paperswithcode.com/datasets?task=fake-news-detection\n",
        " - LIAR: 12.8K labelled statements from PolitiFact.com\n",
        " - RealNews: News Articles from common crawl, in the 5000 domains specificed by google news\n",
        " - FNC-1 stance detection data set: agree, disagree, discuss, unrelated\n",
        " - Covid-19 Fake News Data Set\n",
        " - NELA - GT - 2018, 2019, 2020: truth ratings based on dimensions like reliability, bias, transparency, adherence to journalistic standards and consumer trust\n",
        "- https://data.4tu.nl/articles/dataset/Repository_of_fake_news_detection_datasets/14151755\n",
        "  - Contains 27 freely available datasets with 11 features each \n",
        "- https://www.kaggle.com/ssismasterchief/machine-hack-fake-news-content-detection\n",
        " - Another Kaggle dataset\n",
        "- https://ieee-dataport.org/keywords/fake-news\n",
        " - Another Covid fake news data set\n",
        "- https://www.ncbi.nlm.nih.gov/pmc/articles/PMC8237334/\n",
        " - Comparision of fake news data sets\n",
        "- https://github.com/joolsa/fake_real_news_dataset\n",
        " - 11,000 articles tagged as fake or real\n",
        "\n",
        "\n"
      ]
    },
    {
      "cell_type": "code",
      "metadata": {
        "colab": {
          "base_uri": "https://localhost:8080/"
        },
        "id": "zL7TgpCecEKL",
        "outputId": "73b5edb5-5c65-4086-825e-a4e56eba512d"
      },
      "source": [
        "import pandas as pd\n",
        "pd.plotting.register_matplotlib_converters() \n",
        "import matplotlib.pyplot as plt \n",
        "%matplotlib inline \n",
        "import seaborn as sns "
      ],
      "execution_count": null,
      "outputs": [
        {
          "output_type": "stream",
          "name": "stdout",
          "text": [
            "Setup Complete\n"
          ]
        }
      ]
    },
    {
      "cell_type": "code",
      "metadata": {
        "id": "2YzpPf_I1P-k"
      },
      "source": [
        "# KaiDMML Investigation\n",
        "\n"
      ],
      "execution_count": null,
      "outputs": []
    },
    {
      "cell_type": "code",
      "metadata": {
        "id": "HmvwNs88Xi7y"
      },
      "source": [
        "# Papers with Code"
      ],
      "execution_count": null,
      "outputs": []
    },
    {
      "cell_type": "code",
      "metadata": {
        "id": "-cyu3YfwXryb"
      },
      "source": [
        "# Repository of Fake News Detection"
      ],
      "execution_count": null,
      "outputs": []
    },
    {
      "cell_type": "code",
      "metadata": {
        "id": "5zpMU-xlX7iE"
      },
      "source": [
        "# Covid Fake News Data sets"
      ],
      "execution_count": null,
      "outputs": []
    },
    {
      "cell_type": "code",
      "metadata": {
        "id": "2XFAXl0RX9ZM"
      },
      "source": [
        "# Kaggle"
      ],
      "execution_count": null,
      "outputs": []
    },
    {
      "cell_type": "code",
      "metadata": {
        "id": "CRsnPCzrX_Fl"
      },
      "source": [
        "# Other"
      ],
      "execution_count": null,
      "outputs": []
    }
  ]
}